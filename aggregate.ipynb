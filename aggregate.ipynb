{
 "cells": [
  {
   "cell_type": "code",
   "execution_count": 1,
   "id": "ee1f1fba",
   "metadata": {},
   "outputs": [],
   "source": [
    "import pyspark"
   ]
  },
  {
   "cell_type": "code",
   "execution_count": 2,
   "id": "0a989550",
   "metadata": {},
   "outputs": [
    {
     "data": {
      "text/html": [
       "\n",
       "            <div>\n",
       "                <p><b>SparkSession - in-memory</b></p>\n",
       "                \n",
       "        <div>\n",
       "            <p><b>SparkContext</b></p>\n",
       "\n",
       "            <p><a href=\"http://LAPTOP-V7IMUJGI:4040\">Spark UI</a></p>\n",
       "\n",
       "            <dl>\n",
       "              <dt>Version</dt>\n",
       "                <dd><code>v3.5.5</code></dd>\n",
       "              <dt>Master</dt>\n",
       "                <dd><code>local[*]</code></dd>\n",
       "              <dt>AppName</dt>\n",
       "                <dd><code>Aggregate_operations</code></dd>\n",
       "            </dl>\n",
       "        </div>\n",
       "        \n",
       "            </div>\n",
       "        "
      ],
      "text/plain": [
       "<pyspark.sql.session.SparkSession at 0x198238162b0>"
      ]
     },
     "execution_count": 2,
     "metadata": {},
     "output_type": "execute_result"
    }
   ],
   "source": [
    "from pyspark.sql import SparkSession\n",
    "spark = SparkSession.builder.appName(\"Aggregate_operations\").getOrCreate()\n",
    "spark"
   ]
  },
  {
   "cell_type": "code",
   "execution_count": 3,
   "id": "bf67edd6",
   "metadata": {},
   "outputs": [
    {
     "name": "stdout",
     "output_type": "stream",
     "text": [
      "+---------+---------+-----------+----------+----------+----+----+----+----------+------------+------------+----------------+-----------------+----------------+---------------------+----------------------+------------------------+\n",
      "|  country|   region|region_code|start_date|  end_date|days|year|week|population|total_deaths|covid_deaths| expected_deaths|    excess_deaths|non_covid_deaths|covid_deaths_per_100k|excess_deaths_per_100k|excess_deaths_pct_change|\n",
      "+---------+---------+-----------+----------+----------+----+----+----+----------+------------+------------+----------------+-----------------+----------------+---------------------+----------------------+------------------------+\n",
      "|Australia|Australia|          0|2019-12-30|2020-01-05|   7|2020|   1|  25921089|        2926|           0|2965.37289325805|-39.3728932580452|            2926|                    0|    -0.151895212651155|     -0.0132775521579653|\n",
      "|Australia|Australia|          0|2020-01-06|2020-01-12|   7|2020|   2|  25921089|        2902|           0|2956.53955992503|-54.5395599250273|            2902|                    0|    -0.210406128866836|     -0.0184470929001921|\n",
      "|Australia|Australia|          0|2020-01-13|2020-01-19|   7|2020|   3|  25921089|        2914|           0|2932.03955992503|-18.0395599250273|            2914|                    0|   -0.0695941436913677|    -0.00615256361871575|\n",
      "|Australia|Australia|          0|2020-01-20|2020-01-26|   7|2020|   4|  25921089|        3007|           0|2940.37289325836| 66.6271067416396|            3007|                    0|      0.25703822374762|      0.0226594072113784|\n",
      "|Australia|Australia|          0|2020-01-27|2020-02-02|   7|2020|   5|  25921089|        2910|           0|2900.03955992503| 9.96044007497267|            2910|                    0|    0.0384260093199505|     0.00343458765618609|\n",
      "|Australia|Australia|          0|2020-02-03|2020-02-09|   7|2020|   6|  25921089|        2917|           0|2931.70622659169|-14.7062265916934|            2917|                    0|   -0.0567346016662085|    -0.00501626883972861|\n",
      "|Australia|Australia|          0|2020-02-10|2020-02-16|   7|2020|   7|  25921089|        3030|           0|2936.37289325836| 93.6271067416396|            3030|                    0|     0.361200514151391|      0.0318852918703205|\n",
      "|Australia|Australia|          0|2020-02-17|2020-02-23|   7|2020|   8|  25921089|        3059|           0|2989.03955992503| 69.9604400749727|            3059|                    0|     0.269897765772776|      0.0234056587985489|\n",
      "|Australia|Australia|          0|2020-02-24|2020-03-01|   7|2020|   9|  25921089|        3090|           1|2952.64747191006| 137.352528089944|            3089|  0.00385786260754708|     0.529887182170255|      0.0465184311356637|\n",
      "|Australia|Australia|          0|2020-03-02|2020-03-08|   7|2020|  10|  25921089|        2996|           2|2992.24747191006| 3.75252808994446|            2994|  0.00771572521509417|    0.0144767378019668|     0.00125408346908706|\n",
      "|Australia|Australia|          0|2020-03-09|2020-03-15|   7|2020|  11|  25921089|        2976|           0|2928.04747191006| 47.9525280899443|            2976|                    0|     0.184994265055547|      0.0163769640178202|\n",
      "|Australia|Australia|          0|2020-03-16|2020-03-22|   7|2020|  12|  25921089|        3095|           4|2960.04747191006| 134.952528089944|            3091|   0.0154314504301883|     0.520628311912142|      0.0455913391155371|\n",
      "|Australia|Australia|          0|2020-03-23|2020-03-29|   7|2020|  13|  25921089|        3143|           9|2979.44747191006| 163.552528089944|            3134|   0.0347207634679237|     0.630963182487989|      0.0548935766218057|\n",
      "|Australia|Australia|          0|2020-03-30|2020-04-05|   7|2020|  14|  25921089|        3217|          19|2997.24747191006| 219.752528089944|            3198|   0.0732993895433946|     0.847775061032135|      0.0733181127515967|\n",
      "|Australia|Australia|          0|2020-04-06|2020-04-12|   7|2020|  15|  25921089|        3140|          25|3042.64747191006| 97.3525280899439|            3115|   0.0964465651886771|     0.375572677868372|       0.031995993288314|\n",
      "|Australia|Australia|          0|2020-04-13|2020-04-19|   7|2020|  16|  25921089|        3084|           7|3045.84747191006| 38.1525280899441|            3077|   0.0270050382528296|     0.147187211501585|      0.0125260796680717|\n",
      "|Australia|Australia|          0|2020-04-20|2020-04-26|   7|2020|  17|  25921089|        3044|          16|3037.64747191006| 6.35252808994437|            3028|   0.0617258017207533|    0.0245071805815889|     0.00209126574057183|\n",
      "|Australia|Australia|          0|2020-04-27|2020-05-03|   7|2020|  18|  25921089|        3032|          12|3070.84747191006|-38.8474719100568|            3020|    0.046294351290565|    -0.149868209279544|     -0.0126504075065301|\n",
      "|Australia|Australia|          0|2020-05-04|2020-05-10|   7|2020|  19|  25921089|        3161|           2|3193.04747191006|-32.0474719100562|            3159|  0.00771572521509417|    -0.123634743548221|     -0.0100366412312966|\n",
      "|Australia|Australia|          0|2020-05-11|2020-05-17|   7|2020|  20|  25921089|        3150|           2|3192.04747191006|-42.0474719100566|            3148|  0.00771572521509417|    -0.162213369623694|      -0.013172570984635|\n",
      "+---------+---------+-----------+----------+----------+----+----+----+----------+------------+------------+----------------+-----------------+----------------+---------------------+----------------------+------------------------+\n",
      "only showing top 20 rows\n",
      "\n"
     ]
    }
   ],
   "source": [
    "df_pyspark = spark.read.option('header','true').csv(\"D:/BL_pyspark/all_weekly_excess_deaths.csv\")\n",
    "df_pyspark.show()"
   ]
  },
  {
   "cell_type": "markdown",
   "id": "edbecaa5",
   "metadata": {},
   "source": [
    "Total COVID and Excess Deaths by Country"
   ]
  },
  {
   "cell_type": "code",
   "execution_count": 5,
   "id": "b8711487",
   "metadata": {},
   "outputs": [
    {
     "name": "stdout",
     "output_type": "stream",
     "text": [
      "+--------------+------------------+-------------------+\n",
      "|       country|Total_Covid_Deaths|Total_Excess_Deaths|\n",
      "+--------------+------------------+-------------------+\n",
      "| United States|         1011492.0| 1159885.5457628167|\n",
      "|        Mexico|          317420.0|  658253.3387641679|\n",
      "|          Peru|          214421.0| 194575.40923086193|\n",
      "|       Britain|          176528.0|  158987.1385575027|\n",
      "|         Italy|          163643.0|  203243.9910112206|\n",
      "|        France|          149205.0|  107957.3839888068|\n",
      "|       Germany|          141316.0| 125610.43370791253|\n",
      "|          Iran|          140838.0| 272001.31115172233|\n",
      "|      Colombia|          140202.0| 181622.09325846928|\n",
      "|        Poland|          116417.0| 181775.56713487505|\n",
      "|         Spain|          107261.0| 117555.32921348535|\n",
      "|  South Africa|          101620.0| 270390.87112971477|\n",
      "|       Romania|           65678.0| 125057.82443820006|\n",
      "|       Hungary|           46547.0| 43304.721348313826|\n",
      "|         Chile|           46527.0| 51768.923770478046|\n",
      "|Czech Republic|           40311.0|  44673.34073033886|\n",
      "|      Bulgaria|           37163.0|  70242.50337078366|\n",
      "|        Canada|           36509.0|  30425.55177991465|\n",
      "|       Belgium|           31973.0| 25637.474157296583|\n",
      "|        Greece|           29913.0|  32867.30898877574|\n",
      "+--------------+------------------+-------------------+\n",
      "only showing top 20 rows\n",
      "\n"
     ]
    }
   ],
   "source": [
    "from pyspark.sql import functions as F\n",
    "\n",
    "df_pyspark.groupBy(\"country\").agg(\n",
    "    F.sum(\"covid_deaths\").alias(\"Total_Covid_Deaths\"),\n",
    "    F.sum(\"excess_deaths\").alias(\"Total_Excess_Deaths\")\n",
    ").orderBy(F.desc(\"Total_Covid_Deaths\")).show()"
   ]
  },
  {
   "cell_type": "markdown",
   "id": "952a5e95",
   "metadata": {},
   "source": [
    " Average Weekly Excess Deaths Per Country"
   ]
  },
  {
   "cell_type": "code",
   "execution_count": 6,
   "id": "2285f952",
   "metadata": {},
   "outputs": [
    {
     "name": "stdout",
     "output_type": "stream",
     "text": [
      "+--------------+------------------------+\n",
      "|       country|Avg_Weekly_Excess_Deaths|\n",
      "+--------------+------------------------+\n",
      "| United States|       9061.605826272005|\n",
      "|        Mexico|      5308.4946674529665|\n",
      "|          Iran|       2060.615993573654|\n",
      "|  South Africa|       2017.842321863543|\n",
      "|         Italy|      1665.9343525509887|\n",
      "|          Peru|      1474.0561305368328|\n",
      "|        Poland|      1398.2735933451927|\n",
      "|      Colombia|      1375.9249489277975|\n",
      "|       Britain|      1213.6422790649062|\n",
      "|       Romania|        992.522416176191|\n",
      "|       Germany|        958.858272579485|\n",
      "|         Spain|       932.9788032816298|\n",
      "|        France|       843.4170624125532|\n",
      "|       Ecuador|       561.4541775788678|\n",
      "|      Bulgaria|       553.0905777227059|\n",
      "|     Guatemala|      414.33128961395477|\n",
      "|         Chile|       392.1888164430155|\n",
      "|Czech Republic|      354.55032325665763|\n",
      "|       Hungary|       340.9820578607388|\n",
      "|   South Korea|       306.0273323820554|\n",
      "+--------------+------------------------+\n",
      "only showing top 20 rows\n",
      "\n"
     ]
    }
   ],
   "source": [
    "df_pyspark.groupBy(\"country\").agg(\n",
    "    F.avg(\"excess_deaths\").alias(\"Avg_Weekly_Excess_Deaths\")\n",
    ").orderBy(F.desc(\"Avg_Weekly_Excess_Deaths\")).show()"
   ]
  },
  {
   "cell_type": "markdown",
   "id": "6de7568c",
   "metadata": {},
   "source": [
    "Total Deaths per Year Globally"
   ]
  },
  {
   "cell_type": "code",
   "execution_count": 7,
   "id": "f6e1c258",
   "metadata": {},
   "outputs": [
    {
     "name": "stdout",
     "output_type": "stream",
     "text": [
      "+----+--------------------+\n",
      "|year|       Yearly_Deaths|\n",
      "+----+--------------------+\n",
      "|2020|1.3508662799999986E7|\n",
      "|2021|1.3670896899999995E7|\n",
      "|2022|   5696021.500000002|\n",
      "+----+--------------------+\n",
      "\n"
     ]
    }
   ],
   "source": [
    "df_pyspark.groupBy(\"year\").agg(\n",
    "    F.sum(\"total_deaths\").alias(\"Yearly_Deaths\")\n",
    ").orderBy(\"year\").show()"
   ]
  },
  {
   "cell_type": "markdown",
   "id": "f46ce627",
   "metadata": {},
   "source": [
    "Weekly COVID Death Trend (Worldwide)"
   ]
  },
  {
   "cell_type": "code",
   "execution_count": 8,
   "id": "03a41c3b",
   "metadata": {},
   "outputs": [
    {
     "name": "stdout",
     "output_type": "stream",
     "text": [
      "+----+----+-------------------+\n",
      "|year|week|Weekly_Covid_Deaths|\n",
      "+----+----+-------------------+\n",
      "|2020|   1|                0.0|\n",
      "|2020|  10|              570.0|\n",
      "|2020|  11|             2486.0|\n",
      "|2020|  12|             8029.0|\n",
      "|2020|  13|            19642.0|\n",
      "|2020|  14|            35379.0|\n",
      "|2020|  15|            45207.0|\n",
      "|2020|  16|            43609.0|\n",
      "|2020|  17|            39504.0|\n",
      "|2020|  18|            34198.0|\n",
      "|2020|  19|            30315.0|\n",
      "|2020|   2|                0.0|\n",
      "|2020|  20|            25931.0|\n",
      "|2020|  21|            22459.0|\n",
      "|2020|  22|            19787.0|\n",
      "|2020|  23|            19118.0|\n",
      "|2020|  24|            18633.0|\n",
      "|2020|  25|            18496.0|\n",
      "|2020|  26|            17585.0|\n",
      "|2020|  27|            16652.0|\n",
      "+----+----+-------------------+\n",
      "only showing top 20 rows\n",
      "\n"
     ]
    }
   ],
   "source": [
    "df_pyspark.groupBy(\"year\", \"week\").agg(\n",
    "    F.sum(\"covid_deaths\").alias(\"Weekly_Covid_Deaths\")\n",
    ").orderBy(\"year\", \"week\").show()"
   ]
  },
  {
   "cell_type": "markdown",
   "id": "38b88c4b",
   "metadata": {},
   "source": [
    "Top 5 Countries by Maximum Weekly COVID Deaths"
   ]
  },
  {
   "cell_type": "code",
   "execution_count": 9,
   "id": "bf31fa87",
   "metadata": {},
   "outputs": [
    {
     "name": "stdout",
     "output_type": "stream",
     "text": [
      "+-------------+-----------------------+\n",
      "|      country|Max_Weekly_Covid_Deaths|\n",
      "+-------------+-----------------------+\n",
      "|United States|                   9999|\n",
      "|  Netherlands|                    999|\n",
      "|      Britain|                    997|\n",
      "|        Italy|                    997|\n",
      "|         Iran|                    996|\n",
      "+-------------+-----------------------+\n",
      "\n"
     ]
    }
   ],
   "source": [
    "df_pyspark.groupBy(\"country\").agg(\n",
    "    F.max(\"covid_deaths\").alias(\"Max_Weekly_Covid_Deaths\")\n",
    ").orderBy(F.desc(\"Max_Weekly_Covid_Deaths\")).limit(5).show()"
   ]
  }
 ],
 "metadata": {
  "kernelspec": {
   "display_name": "pys_env",
   "language": "python",
   "name": "python3"
  },
  "language_info": {
   "codemirror_mode": {
    "name": "ipython",
    "version": 3
   },
   "file_extension": ".py",
   "mimetype": "text/x-python",
   "name": "python",
   "nbconvert_exporter": "python",
   "pygments_lexer": "ipython3",
   "version": "3.9.21"
  }
 },
 "nbformat": 4,
 "nbformat_minor": 5
}
